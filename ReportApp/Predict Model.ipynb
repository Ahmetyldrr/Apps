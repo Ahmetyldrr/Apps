{
 "cells": [
  {
   "cell_type": "code",
   "execution_count": null,
   "id": "f3356442-36e2-408c-aaf1-2d86b108468f",
   "metadata": {},
   "outputs": [
    {
     "data": {
      "text/plain": [
       "array([3236.33311767, 3054.37950067, 2874.02666367, 2794.49264767,\n",
       "       2676.55510867, 2403.51516567, 2399.49555467, 2627.60728867,\n",
       "       2937.63599267, 2982.20386067, 3077.32661567, 3162.61829367,\n",
       "       3271.26956567, 3359.81135467, 3371.36700967, 3451.94690867,\n",
       "       3323.22521267, 3316.86377867, 3336.78614067, 3437.28772967,\n",
       "       3594.85686267, 3509.71706267, 3390.80589667, 3285.98130867,\n",
       "       3082.82514667, 2913.79080167, 2796.01332667, 2687.12323167,\n",
       "       2571.27961167, 2354.84960727, 2443.0093412 , 2699.64048923,\n",
       "       2952.48403286, 3063.73131959, 3137.5567737 , 3117.29671532,\n",
       "       3112.72311542, 3178.44520966, 3156.09417239, 3098.56184815,\n",
       "       3090.14432711, 2986.43057416, 2939.56103122, 3061.63718216,\n",
       "       3352.15361667, 3319.66193167, 3190.80618167, 3109.55903667,\n",
       "       2831.47358667, 2675.46682667, 2563.04286167, 2551.04705667,\n",
       "       2481.43002667, 2256.00090723, 2325.5040915 , 2603.17382499,\n",
       "       2919.89564391, 3102.3233156 , 3162.44602968, 3206.72220652,\n",
       "       3294.19957685, 3359.33556623, 3432.47315405, 3477.55420479,\n",
       "       3558.45104343, 3543.51580981, 3496.08685627, 3544.53236712,\n",
       "       3737.20686667, 3669.46493667, 3515.52284667, 3400.43141667])"
      ]
     },
     "execution_count": 53,
     "metadata": {},
     "output_type": "execute_result"
    }
   ],
   "source": [
    "import numpy as np\n",
    "import pandas as pd\n",
    "\n",
    "excel_file_path = 'tahmin_tt.xlsx' # Dosya yolunu güncelleyin\n",
    "df_input_data = pd.read_excel(excel_file_path)\n",
    "df_long = pd.melt(df_input_data, value_vars=df_input_data.columns, var_name=\"date\", value_name=\"data\")[\"data\"]\n",
    "df_final = pd.DataFrame(df_long)\n",
    "df_final.columns = [\"data\"]\n",
    "raw_input_data = df_final['data'].values # Tüm veriyi numpy array olarak al\n",
    "raw_input_data"
   ]
  },
  {
   "cell_type": "code",
   "execution_count": 54,
   "id": "463d9e36-5c2b-487f-a219-a4f99d5d3fe0",
   "metadata": {},
   "outputs": [
    {
     "name": "stderr",
     "output_type": "stream",
     "text": [
      "WARNING:absl:Compiled the loaded model, but the compiled metrics have yet to be built. `model.compile_metrics` will be empty until you train or evaluate the model.\n"
     ]
    },
    {
     "name": "stdout",
     "output_type": "stream",
     "text": [
      "Model başarıyla yüklendi: lstm_model.h5\n",
      "Scaler başarıyla yüklendi: scaler_y.pkl\n",
      "\n",
      "Yüklenen modelin özeti:\n"
     ]
    },
    {
     "name": "stderr",
     "output_type": "stream",
     "text": [
      "C:\\Users\\ahmet.yildirir\\AppData\\Local\\Programs\\Python\\Python312\\Lib\\site-packages\\sklearn\\base.py:348: InconsistentVersionWarning: Trying to unpickle estimator MinMaxScaler from version 1.6.1 when using version 1.3.2. This might lead to breaking code or invalid results. Use at your own risk. For more info please refer to:\n",
      "https://scikit-learn.org/stable/model_persistence.html#security-maintainability-limitations\n",
      "  warnings.warn(\n"
     ]
    },
    {
     "data": {
      "text/html": [
       "<pre style=\"white-space:pre;overflow-x:auto;line-height:normal;font-family:Menlo,'DejaVu Sans Mono',consolas,'Courier New',monospace\"><span style=\"font-weight: bold\">Model: \"sequential_9\"</span>\n",
       "</pre>\n"
      ],
      "text/plain": [
       "\u001b[1mModel: \"sequential_9\"\u001b[0m\n"
      ]
     },
     "metadata": {},
     "output_type": "display_data"
    },
    {
     "data": {
      "text/html": [
       "<pre style=\"white-space:pre;overflow-x:auto;line-height:normal;font-family:Menlo,'DejaVu Sans Mono',consolas,'Courier New',monospace\">┏━━━━━━━━━━━━━━━━━━━━━━━━━━━━━━━━━━━━━━┳━━━━━━━━━━━━━━━━━━━━━━━━━━━━━┳━━━━━━━━━━━━━━━━━┓\n",
       "┃<span style=\"font-weight: bold\"> Layer (type)                         </span>┃<span style=\"font-weight: bold\"> Output Shape                </span>┃<span style=\"font-weight: bold\">         Param # </span>┃\n",
       "┡━━━━━━━━━━━━━━━━━━━━━━━━━━━━━━━━━━━━━━╇━━━━━━━━━━━━━━━━━━━━━━━━━━━━━╇━━━━━━━━━━━━━━━━━┩\n",
       "│ bidirectional (<span style=\"color: #0087ff; text-decoration-color: #0087ff\">Bidirectional</span>)        │ (<span style=\"color: #00d7ff; text-decoration-color: #00d7ff\">None</span>, <span style=\"color: #00af00; text-decoration-color: #00af00\">72</span>, <span style=\"color: #00af00; text-decoration-color: #00af00\">256</span>)             │         <span style=\"color: #00af00; text-decoration-color: #00af00\">133,120</span> │\n",
       "├──────────────────────────────────────┼─────────────────────────────┼─────────────────┤\n",
       "│ batch_normalization_18               │ (<span style=\"color: #00d7ff; text-decoration-color: #00d7ff\">None</span>, <span style=\"color: #00af00; text-decoration-color: #00af00\">72</span>, <span style=\"color: #00af00; text-decoration-color: #00af00\">256</span>)             │           <span style=\"color: #00af00; text-decoration-color: #00af00\">1,024</span> │\n",
       "│ (<span style=\"color: #0087ff; text-decoration-color: #0087ff\">BatchNormalization</span>)                 │                             │                 │\n",
       "├──────────────────────────────────────┼─────────────────────────────┼─────────────────┤\n",
       "│ dropout_21 (<span style=\"color: #0087ff; text-decoration-color: #0087ff\">Dropout</span>)                 │ (<span style=\"color: #00d7ff; text-decoration-color: #00d7ff\">None</span>, <span style=\"color: #00af00; text-decoration-color: #00af00\">72</span>, <span style=\"color: #00af00; text-decoration-color: #00af00\">256</span>)             │               <span style=\"color: #00af00; text-decoration-color: #00af00\">0</span> │\n",
       "├──────────────────────────────────────┼─────────────────────────────┼─────────────────┤\n",
       "│ bidirectional_1 (<span style=\"color: #0087ff; text-decoration-color: #0087ff\">Bidirectional</span>)      │ (<span style=\"color: #00d7ff; text-decoration-color: #00d7ff\">None</span>, <span style=\"color: #00af00; text-decoration-color: #00af00\">128</span>)                 │         <span style=\"color: #00af00; text-decoration-color: #00af00\">164,352</span> │\n",
       "├──────────────────────────────────────┼─────────────────────────────┼─────────────────┤\n",
       "│ batch_normalization_19               │ (<span style=\"color: #00d7ff; text-decoration-color: #00d7ff\">None</span>, <span style=\"color: #00af00; text-decoration-color: #00af00\">128</span>)                 │             <span style=\"color: #00af00; text-decoration-color: #00af00\">512</span> │\n",
       "│ (<span style=\"color: #0087ff; text-decoration-color: #0087ff\">BatchNormalization</span>)                 │                             │                 │\n",
       "├──────────────────────────────────────┼─────────────────────────────┼─────────────────┤\n",
       "│ dropout_22 (<span style=\"color: #0087ff; text-decoration-color: #0087ff\">Dropout</span>)                 │ (<span style=\"color: #00d7ff; text-decoration-color: #00d7ff\">None</span>, <span style=\"color: #00af00; text-decoration-color: #00af00\">128</span>)                 │               <span style=\"color: #00af00; text-decoration-color: #00af00\">0</span> │\n",
       "├──────────────────────────────────────┼─────────────────────────────┼─────────────────┤\n",
       "│ dense_10 (<span style=\"color: #0087ff; text-decoration-color: #0087ff\">Dense</span>)                     │ (<span style=\"color: #00d7ff; text-decoration-color: #00d7ff\">None</span>, <span style=\"color: #00af00; text-decoration-color: #00af00\">24</span>)                  │           <span style=\"color: #00af00; text-decoration-color: #00af00\">3,096</span> │\n",
       "└──────────────────────────────────────┴─────────────────────────────┴─────────────────┘\n",
       "</pre>\n"
      ],
      "text/plain": [
       "┏━━━━━━━━━━━━━━━━━━━━━━━━━━━━━━━━━━━━━━┳━━━━━━━━━━━━━━━━━━━━━━━━━━━━━┳━━━━━━━━━━━━━━━━━┓\n",
       "┃\u001b[1m \u001b[0m\u001b[1mLayer (type)                        \u001b[0m\u001b[1m \u001b[0m┃\u001b[1m \u001b[0m\u001b[1mOutput Shape               \u001b[0m\u001b[1m \u001b[0m┃\u001b[1m \u001b[0m\u001b[1m        Param #\u001b[0m\u001b[1m \u001b[0m┃\n",
       "┡━━━━━━━━━━━━━━━━━━━━━━━━━━━━━━━━━━━━━━╇━━━━━━━━━━━━━━━━━━━━━━━━━━━━━╇━━━━━━━━━━━━━━━━━┩\n",
       "│ bidirectional (\u001b[38;5;33mBidirectional\u001b[0m)        │ (\u001b[38;5;45mNone\u001b[0m, \u001b[38;5;34m72\u001b[0m, \u001b[38;5;34m256\u001b[0m)             │         \u001b[38;5;34m133,120\u001b[0m │\n",
       "├──────────────────────────────────────┼─────────────────────────────┼─────────────────┤\n",
       "│ batch_normalization_18               │ (\u001b[38;5;45mNone\u001b[0m, \u001b[38;5;34m72\u001b[0m, \u001b[38;5;34m256\u001b[0m)             │           \u001b[38;5;34m1,024\u001b[0m │\n",
       "│ (\u001b[38;5;33mBatchNormalization\u001b[0m)                 │                             │                 │\n",
       "├──────────────────────────────────────┼─────────────────────────────┼─────────────────┤\n",
       "│ dropout_21 (\u001b[38;5;33mDropout\u001b[0m)                 │ (\u001b[38;5;45mNone\u001b[0m, \u001b[38;5;34m72\u001b[0m, \u001b[38;5;34m256\u001b[0m)             │               \u001b[38;5;34m0\u001b[0m │\n",
       "├──────────────────────────────────────┼─────────────────────────────┼─────────────────┤\n",
       "│ bidirectional_1 (\u001b[38;5;33mBidirectional\u001b[0m)      │ (\u001b[38;5;45mNone\u001b[0m, \u001b[38;5;34m128\u001b[0m)                 │         \u001b[38;5;34m164,352\u001b[0m │\n",
       "├──────────────────────────────────────┼─────────────────────────────┼─────────────────┤\n",
       "│ batch_normalization_19               │ (\u001b[38;5;45mNone\u001b[0m, \u001b[38;5;34m128\u001b[0m)                 │             \u001b[38;5;34m512\u001b[0m │\n",
       "│ (\u001b[38;5;33mBatchNormalization\u001b[0m)                 │                             │                 │\n",
       "├──────────────────────────────────────┼─────────────────────────────┼─────────────────┤\n",
       "│ dropout_22 (\u001b[38;5;33mDropout\u001b[0m)                 │ (\u001b[38;5;45mNone\u001b[0m, \u001b[38;5;34m128\u001b[0m)                 │               \u001b[38;5;34m0\u001b[0m │\n",
       "├──────────────────────────────────────┼─────────────────────────────┼─────────────────┤\n",
       "│ dense_10 (\u001b[38;5;33mDense\u001b[0m)                     │ (\u001b[38;5;45mNone\u001b[0m, \u001b[38;5;34m24\u001b[0m)                  │           \u001b[38;5;34m3,096\u001b[0m │\n",
       "└──────────────────────────────────────┴─────────────────────────────┴─────────────────┘\n"
      ]
     },
     "metadata": {},
     "output_type": "display_data"
    },
    {
     "data": {
      "text/html": [
       "<pre style=\"white-space:pre;overflow-x:auto;line-height:normal;font-family:Menlo,'DejaVu Sans Mono',consolas,'Courier New',monospace\"><span style=\"font-weight: bold\"> Total params: </span><span style=\"color: #00af00; text-decoration-color: #00af00\">302,106</span> (1.15 MB)\n",
       "</pre>\n"
      ],
      "text/plain": [
       "\u001b[1m Total params: \u001b[0m\u001b[38;5;34m302,106\u001b[0m (1.15 MB)\n"
      ]
     },
     "metadata": {},
     "output_type": "display_data"
    },
    {
     "data": {
      "text/html": [
       "<pre style=\"white-space:pre;overflow-x:auto;line-height:normal;font-family:Menlo,'DejaVu Sans Mono',consolas,'Courier New',monospace\"><span style=\"font-weight: bold\"> Trainable params: </span><span style=\"color: #00af00; text-decoration-color: #00af00\">301,336</span> (1.15 MB)\n",
       "</pre>\n"
      ],
      "text/plain": [
       "\u001b[1m Trainable params: \u001b[0m\u001b[38;5;34m301,336\u001b[0m (1.15 MB)\n"
      ]
     },
     "metadata": {},
     "output_type": "display_data"
    },
    {
     "data": {
      "text/html": [
       "<pre style=\"white-space:pre;overflow-x:auto;line-height:normal;font-family:Menlo,'DejaVu Sans Mono',consolas,'Courier New',monospace\"><span style=\"font-weight: bold\"> Non-trainable params: </span><span style=\"color: #00af00; text-decoration-color: #00af00\">768</span> (3.00 KB)\n",
       "</pre>\n"
      ],
      "text/plain": [
       "\u001b[1m Non-trainable params: \u001b[0m\u001b[38;5;34m768\u001b[0m (3.00 KB)\n"
      ]
     },
     "metadata": {},
     "output_type": "display_data"
    },
    {
     "data": {
      "text/html": [
       "<pre style=\"white-space:pre;overflow-x:auto;line-height:normal;font-family:Menlo,'DejaVu Sans Mono',consolas,'Courier New',monospace\"><span style=\"font-weight: bold\"> Optimizer params: </span><span style=\"color: #00af00; text-decoration-color: #00af00\">2</span> (12.00 B)\n",
       "</pre>\n"
      ],
      "text/plain": [
       "\u001b[1m Optimizer params: \u001b[0m\u001b[38;5;34m2\u001b[0m (12.00 B)\n"
      ]
     },
     "metadata": {},
     "output_type": "display_data"
    }
   ],
   "source": [
    "import numpy as np\n",
    "import pandas as pd\n",
    "import joblib\n",
    "from tensorflow.keras.models import load_model\n",
    "from tensorflow.keras.losses import MeanSquaredError # MSE kaybını import edin\n",
    "\n",
    "# Kaydedilen dosyaların yolları (masaüstünüzdeki yollara göre güncelleyin)\n",
    "model_load_path = 'lstm_model.h5' # Model dosyasının yolu\n",
    "scaler_load_path = 'scaler_y.pkl' # Scaler dosyasının yolu\n",
    "\n",
    "# Modeli yükle\n",
    "try:\n",
    "    # custom_objects={} içine özel katmanları, fonksiyonları, metrikleri ekleyin\n",
    "    custom_objects = {'mse': MeanSquaredError()} # MSE kaybını belirtiyoruz\n",
    "    loaded_model = load_model(model_load_path, custom_objects=custom_objects)\n",
    "    print(f\"Model başarıyla yüklendi: {model_load_path}\")\n",
    "except Exception as e:\n",
    "    print(f\"Model yüklenirken bir hata oluştu: {e}\")\n",
    "    loaded_model = None # Hata durumunda loaded_model'ı None olarak ayarla\n",
    "\n",
    "# Scaler'ı yükle\n",
    "try:\n",
    "    loaded_scaler_y = joblib.load(scaler_load_path)\n",
    "    print(f\"Scaler başarıyla yüklendi: {scaler_load_path}\")\n",
    "except Exception as e:\n",
    "    print(f\"Scaler yüklenirken bir hata oluştu: {e}\")\n",
    "    loaded_scaler_y = None # Hata durumunda loaded_scaler_y'yi None olarak ayarla\n",
    "\n",
    "\n",
    "print(\"\\nYüklenen modelin özeti:\")\n",
    "if loaded_model:\n",
    "    loaded_model.summary()\n",
    "else:\n",
    "    print(\"Model yüklenemedi, özet gösterilemiyor.\")\n"
   ]
  },
  {
   "cell_type": "code",
   "execution_count": 55,
   "id": "1590c091-8d28-4e02-ad82-f72b87187fea",
   "metadata": {},
   "outputs": [],
   "source": [
    "scaled_input_data = loaded_scaler_y.transform(raw_input_data.reshape(-1, 1)) # Scaler 2D input bekler"
   ]
  },
  {
   "cell_type": "code",
   "execution_count": 56,
   "id": "3d824c97-d91a-49ea-a08b-a3da7f7d4878",
   "metadata": {},
   "outputs": [],
   "source": [
    "X_input_for_prediction = scaled_input_data[np.newaxis, ...] # veya scaled_input_data.reshape(1, window_size, 1)\n"
   ]
  },
  {
   "cell_type": "code",
   "execution_count": 57,
   "id": "182a031a-6c93-4cdc-bf32-2ac78d38d2c5",
   "metadata": {},
   "outputs": [
    {
     "name": "stdout",
     "output_type": "stream",
     "text": [
      "\u001b[1m1/1\u001b[0m \u001b[32m━━━━━━━━━━━━━━━━━━━━\u001b[0m\u001b[37m\u001b[0m \u001b[1m0s\u001b[0m 421ms/step\n"
     ]
    },
    {
     "data": {
      "text/plain": [
       "array([[0.6208473 , 0.58121455, 0.5487509 , 0.51804364, 0.48464674,\n",
       "        0.45240423, 0.45746776, 0.5092177 , 0.5748211 , 0.6170536 ,\n",
       "        0.6353177 , 0.6467431 , 0.6564272 , 0.66764796, 0.6787472 ,\n",
       "        0.6857236 , 0.68250906, 0.6713011 , 0.6728959 , 0.69618773,\n",
       "        0.7134805 , 0.7078903 , 0.68545455, 0.65141904]], dtype=float32)"
      ]
     },
     "execution_count": 57,
     "metadata": {},
     "output_type": "execute_result"
    }
   ],
   "source": [
    "scaled_prediction = loaded_model.predict(X_input_for_prediction) # Çıktı (1, 24) şeklinde olacak\n",
    "scaled_prediction"
   ]
  },
  {
   "cell_type": "code",
   "execution_count": 58,
   "id": "1c597732-227b-45a5-a8b3-59049c249246",
   "metadata": {},
   "outputs": [
    {
     "data": {
      "text/plain": [
       "array([3196.4485, 3023.3943, 2881.643 , 2747.5615, 2601.7356, 2460.9504,\n",
       "       2483.06  , 2709.0234, 2995.4775, 3179.8838, 3259.6328, 3309.5215,\n",
       "       3351.8064, 3400.8013, 3449.2656, 3479.7278, 3465.6917, 3416.7527,\n",
       "       3423.7163, 3525.419 , 3600.9268, 3576.5173, 3478.553 , 3329.9385],\n",
       "      dtype=float32)"
      ]
     },
     "execution_count": 58,
     "metadata": {},
     "output_type": "execute_result"
    }
   ],
   "source": [
    "raw_prediction = loaded_scaler_y.inverse_transform(scaled_prediction) # Çıktı (1, 24) şeklinde olacak\n",
    "final_prediction = raw_prediction.flatten() # İsterseniz 1D diziye çevirebilirsiniz (24)\n",
    "final_prediction"
   ]
  },
  {
   "cell_type": "code",
   "execution_count": 59,
   "id": "1a524c5d-9e86-442f-958a-593453778fce",
   "metadata": {},
   "outputs": [
    {
     "data": {
      "text/html": [
       "<div>\n",
       "<style scoped>\n",
       "    .dataframe tbody tr th:only-of-type {\n",
       "        vertical-align: middle;\n",
       "    }\n",
       "\n",
       "    .dataframe tbody tr th {\n",
       "        vertical-align: top;\n",
       "    }\n",
       "\n",
       "    .dataframe thead th {\n",
       "        text-align: right;\n",
       "    }\n",
       "</style>\n",
       "<table border=\"1\" class=\"dataframe\">\n",
       "  <thead>\n",
       "    <tr style=\"text-align: right;\">\n",
       "      <th></th>\n",
       "      <th>Tahmin</th>\n",
       "    </tr>\n",
       "  </thead>\n",
       "  <tbody>\n",
       "    <tr>\n",
       "      <th>0</th>\n",
       "      <td>3196.448486</td>\n",
       "    </tr>\n",
       "    <tr>\n",
       "      <th>1</th>\n",
       "      <td>3023.394287</td>\n",
       "    </tr>\n",
       "    <tr>\n",
       "      <th>2</th>\n",
       "      <td>2881.643066</td>\n",
       "    </tr>\n",
       "    <tr>\n",
       "      <th>3</th>\n",
       "      <td>2747.561523</td>\n",
       "    </tr>\n",
       "    <tr>\n",
       "      <th>4</th>\n",
       "      <td>2601.735596</td>\n",
       "    </tr>\n",
       "    <tr>\n",
       "      <th>5</th>\n",
       "      <td>2460.950439</td>\n",
       "    </tr>\n",
       "    <tr>\n",
       "      <th>6</th>\n",
       "      <td>2483.060059</td>\n",
       "    </tr>\n",
       "    <tr>\n",
       "      <th>7</th>\n",
       "      <td>2709.023438</td>\n",
       "    </tr>\n",
       "    <tr>\n",
       "      <th>8</th>\n",
       "      <td>2995.477539</td>\n",
       "    </tr>\n",
       "    <tr>\n",
       "      <th>9</th>\n",
       "      <td>3179.883789</td>\n",
       "    </tr>\n",
       "    <tr>\n",
       "      <th>10</th>\n",
       "      <td>3259.632812</td>\n",
       "    </tr>\n",
       "    <tr>\n",
       "      <th>11</th>\n",
       "      <td>3309.521484</td>\n",
       "    </tr>\n",
       "    <tr>\n",
       "      <th>12</th>\n",
       "      <td>3351.806396</td>\n",
       "    </tr>\n",
       "    <tr>\n",
       "      <th>13</th>\n",
       "      <td>3400.801270</td>\n",
       "    </tr>\n",
       "    <tr>\n",
       "      <th>14</th>\n",
       "      <td>3449.265625</td>\n",
       "    </tr>\n",
       "    <tr>\n",
       "      <th>15</th>\n",
       "      <td>3479.727783</td>\n",
       "    </tr>\n",
       "    <tr>\n",
       "      <th>16</th>\n",
       "      <td>3465.691650</td>\n",
       "    </tr>\n",
       "    <tr>\n",
       "      <th>17</th>\n",
       "      <td>3416.752686</td>\n",
       "    </tr>\n",
       "    <tr>\n",
       "      <th>18</th>\n",
       "      <td>3423.716309</td>\n",
       "    </tr>\n",
       "    <tr>\n",
       "      <th>19</th>\n",
       "      <td>3525.418945</td>\n",
       "    </tr>\n",
       "    <tr>\n",
       "      <th>20</th>\n",
       "      <td>3600.926758</td>\n",
       "    </tr>\n",
       "    <tr>\n",
       "      <th>21</th>\n",
       "      <td>3576.517334</td>\n",
       "    </tr>\n",
       "    <tr>\n",
       "      <th>22</th>\n",
       "      <td>3478.552979</td>\n",
       "    </tr>\n",
       "    <tr>\n",
       "      <th>23</th>\n",
       "      <td>3329.938477</td>\n",
       "    </tr>\n",
       "  </tbody>\n",
       "</table>\n",
       "</div>"
      ],
      "text/plain": [
       "         Tahmin\n",
       "0   3196.448486\n",
       "1   3023.394287\n",
       "2   2881.643066\n",
       "3   2747.561523\n",
       "4   2601.735596\n",
       "5   2460.950439\n",
       "6   2483.060059\n",
       "7   2709.023438\n",
       "8   2995.477539\n",
       "9   3179.883789\n",
       "10  3259.632812\n",
       "11  3309.521484\n",
       "12  3351.806396\n",
       "13  3400.801270\n",
       "14  3449.265625\n",
       "15  3479.727783\n",
       "16  3465.691650\n",
       "17  3416.752686\n",
       "18  3423.716309\n",
       "19  3525.418945\n",
       "20  3600.926758\n",
       "21  3576.517334\n",
       "22  3478.552979\n",
       "23  3329.938477"
      ]
     },
     "execution_count": 59,
     "metadata": {},
     "output_type": "execute_result"
    }
   ],
   "source": [
    "df_result = pd.DataFrame()\n",
    "\n",
    "df_result[\"Tahmin\"] = final_prediction\n",
    "df_result"
   ]
  },
  {
   "cell_type": "code",
   "execution_count": 60,
   "id": "c90150ab-105f-4730-9bc3-d518d09094d9",
   "metadata": {},
   "outputs": [
    {
     "data": {
      "text/plain": [
       "array([3170.15158667, 3001.79782667, 2857.03186167, 2738.45705667,\n",
       "       2637.86062667, 2291.9091929 , 2437.58614694, 2815.13080306,\n",
       "       3108.77903376, 3279.23579448, 3325.88925712, 3376.68774587,\n",
       "       3438.238386  , 3517.05905742, 3563.8592477 , 3514.56671869,\n",
       "       3583.81672676, 3517.23307469, 3608.22387153, 3694.55716918,\n",
       "       3849.15986667, 3758.78893667, 3605.91084667, 3452.20141667])"
      ]
     },
     "execution_count": 60,
     "metadata": {},
     "output_type": "execute_result"
    }
   ],
   "source": [
    "raw_predict_data = df_final['data'].values[-window_size:] # Son 72 saat, numpy array\n",
    "raw_predict_data"
   ]
  },
  {
   "cell_type": "code",
   "execution_count": 61,
   "id": "614ed8c5-b72c-49d0-80ad-8226196f173f",
   "metadata": {},
   "outputs": [
    {
     "data": {
      "text/html": [
       "<div>\n",
       "<style scoped>\n",
       "    .dataframe tbody tr th:only-of-type {\n",
       "        vertical-align: middle;\n",
       "    }\n",
       "\n",
       "    .dataframe tbody tr th {\n",
       "        vertical-align: top;\n",
       "    }\n",
       "\n",
       "    .dataframe thead th {\n",
       "        text-align: right;\n",
       "    }\n",
       "</style>\n",
       "<table border=\"1\" class=\"dataframe\">\n",
       "  <thead>\n",
       "    <tr style=\"text-align: right;\">\n",
       "      <th></th>\n",
       "      <th>Tahmin</th>\n",
       "      <th>gerçek</th>\n",
       "    </tr>\n",
       "  </thead>\n",
       "  <tbody>\n",
       "    <tr>\n",
       "      <th>0</th>\n",
       "      <td>3196.448486</td>\n",
       "      <td>3170.151587</td>\n",
       "    </tr>\n",
       "    <tr>\n",
       "      <th>1</th>\n",
       "      <td>3023.394287</td>\n",
       "      <td>3001.797827</td>\n",
       "    </tr>\n",
       "    <tr>\n",
       "      <th>2</th>\n",
       "      <td>2881.643066</td>\n",
       "      <td>2857.031862</td>\n",
       "    </tr>\n",
       "    <tr>\n",
       "      <th>3</th>\n",
       "      <td>2747.561523</td>\n",
       "      <td>2738.457057</td>\n",
       "    </tr>\n",
       "    <tr>\n",
       "      <th>4</th>\n",
       "      <td>2601.735596</td>\n",
       "      <td>2637.860627</td>\n",
       "    </tr>\n",
       "    <tr>\n",
       "      <th>5</th>\n",
       "      <td>2460.950439</td>\n",
       "      <td>2291.909193</td>\n",
       "    </tr>\n",
       "    <tr>\n",
       "      <th>6</th>\n",
       "      <td>2483.060059</td>\n",
       "      <td>2437.586147</td>\n",
       "    </tr>\n",
       "    <tr>\n",
       "      <th>7</th>\n",
       "      <td>2709.023438</td>\n",
       "      <td>2815.130803</td>\n",
       "    </tr>\n",
       "    <tr>\n",
       "      <th>8</th>\n",
       "      <td>2995.477539</td>\n",
       "      <td>3108.779034</td>\n",
       "    </tr>\n",
       "    <tr>\n",
       "      <th>9</th>\n",
       "      <td>3179.883789</td>\n",
       "      <td>3279.235794</td>\n",
       "    </tr>\n",
       "    <tr>\n",
       "      <th>10</th>\n",
       "      <td>3259.632812</td>\n",
       "      <td>3325.889257</td>\n",
       "    </tr>\n",
       "    <tr>\n",
       "      <th>11</th>\n",
       "      <td>3309.521484</td>\n",
       "      <td>3376.687746</td>\n",
       "    </tr>\n",
       "    <tr>\n",
       "      <th>12</th>\n",
       "      <td>3351.806396</td>\n",
       "      <td>3438.238386</td>\n",
       "    </tr>\n",
       "    <tr>\n",
       "      <th>13</th>\n",
       "      <td>3400.801270</td>\n",
       "      <td>3517.059057</td>\n",
       "    </tr>\n",
       "    <tr>\n",
       "      <th>14</th>\n",
       "      <td>3449.265625</td>\n",
       "      <td>3563.859248</td>\n",
       "    </tr>\n",
       "    <tr>\n",
       "      <th>15</th>\n",
       "      <td>3479.727783</td>\n",
       "      <td>3514.566719</td>\n",
       "    </tr>\n",
       "    <tr>\n",
       "      <th>16</th>\n",
       "      <td>3465.691650</td>\n",
       "      <td>3583.816727</td>\n",
       "    </tr>\n",
       "    <tr>\n",
       "      <th>17</th>\n",
       "      <td>3416.752686</td>\n",
       "      <td>3517.233075</td>\n",
       "    </tr>\n",
       "    <tr>\n",
       "      <th>18</th>\n",
       "      <td>3423.716309</td>\n",
       "      <td>3608.223872</td>\n",
       "    </tr>\n",
       "    <tr>\n",
       "      <th>19</th>\n",
       "      <td>3525.418945</td>\n",
       "      <td>3694.557169</td>\n",
       "    </tr>\n",
       "    <tr>\n",
       "      <th>20</th>\n",
       "      <td>3600.926758</td>\n",
       "      <td>3849.159867</td>\n",
       "    </tr>\n",
       "    <tr>\n",
       "      <th>21</th>\n",
       "      <td>3576.517334</td>\n",
       "      <td>3758.788937</td>\n",
       "    </tr>\n",
       "    <tr>\n",
       "      <th>22</th>\n",
       "      <td>3478.552979</td>\n",
       "      <td>3605.910847</td>\n",
       "    </tr>\n",
       "    <tr>\n",
       "      <th>23</th>\n",
       "      <td>3329.938477</td>\n",
       "      <td>3452.201417</td>\n",
       "    </tr>\n",
       "  </tbody>\n",
       "</table>\n",
       "</div>"
      ],
      "text/plain": [
       "         Tahmin       gerçek\n",
       "0   3196.448486  3170.151587\n",
       "1   3023.394287  3001.797827\n",
       "2   2881.643066  2857.031862\n",
       "3   2747.561523  2738.457057\n",
       "4   2601.735596  2637.860627\n",
       "5   2460.950439  2291.909193\n",
       "6   2483.060059  2437.586147\n",
       "7   2709.023438  2815.130803\n",
       "8   2995.477539  3108.779034\n",
       "9   3179.883789  3279.235794\n",
       "10  3259.632812  3325.889257\n",
       "11  3309.521484  3376.687746\n",
       "12  3351.806396  3438.238386\n",
       "13  3400.801270  3517.059057\n",
       "14  3449.265625  3563.859248\n",
       "15  3479.727783  3514.566719\n",
       "16  3465.691650  3583.816727\n",
       "17  3416.752686  3517.233075\n",
       "18  3423.716309  3608.223872\n",
       "19  3525.418945  3694.557169\n",
       "20  3600.926758  3849.159867\n",
       "21  3576.517334  3758.788937\n",
       "22  3478.552979  3605.910847\n",
       "23  3329.938477  3452.201417"
      ]
     },
     "execution_count": 61,
     "metadata": {},
     "output_type": "execute_result"
    }
   ],
   "source": [
    "df_result[\"gerçek\"]=raw_predict_data\n",
    "df_result"
   ]
  },
  {
   "cell_type": "code",
   "execution_count": 62,
   "id": "ea1f11da-d86e-4f17-bfc4-88ca66016183",
   "metadata": {},
   "outputs": [
    {
     "data": {
      "text/html": [
       "<div>\n",
       "<style scoped>\n",
       "    .dataframe tbody tr th:only-of-type {\n",
       "        vertical-align: middle;\n",
       "    }\n",
       "\n",
       "    .dataframe tbody tr th {\n",
       "        vertical-align: top;\n",
       "    }\n",
       "\n",
       "    .dataframe thead th {\n",
       "        text-align: right;\n",
       "    }\n",
       "</style>\n",
       "<table border=\"1\" class=\"dataframe\">\n",
       "  <thead>\n",
       "    <tr style=\"text-align: right;\">\n",
       "      <th></th>\n",
       "      <th>Tahmin</th>\n",
       "      <th>gerçek</th>\n",
       "      <th>Fark</th>\n",
       "    </tr>\n",
       "  </thead>\n",
       "  <tbody>\n",
       "    <tr>\n",
       "      <th>0</th>\n",
       "      <td>3196.448486</td>\n",
       "      <td>3170.151587</td>\n",
       "      <td>26.296900</td>\n",
       "    </tr>\n",
       "    <tr>\n",
       "      <th>1</th>\n",
       "      <td>3023.394287</td>\n",
       "      <td>3001.797827</td>\n",
       "      <td>21.596460</td>\n",
       "    </tr>\n",
       "    <tr>\n",
       "      <th>2</th>\n",
       "      <td>2881.643066</td>\n",
       "      <td>2857.031862</td>\n",
       "      <td>24.611205</td>\n",
       "    </tr>\n",
       "    <tr>\n",
       "      <th>3</th>\n",
       "      <td>2747.561523</td>\n",
       "      <td>2738.457057</td>\n",
       "      <td>9.104467</td>\n",
       "    </tr>\n",
       "    <tr>\n",
       "      <th>4</th>\n",
       "      <td>2601.735596</td>\n",
       "      <td>2637.860627</td>\n",
       "      <td>-36.125031</td>\n",
       "    </tr>\n",
       "    <tr>\n",
       "      <th>5</th>\n",
       "      <td>2460.950439</td>\n",
       "      <td>2291.909193</td>\n",
       "      <td>169.041247</td>\n",
       "    </tr>\n",
       "    <tr>\n",
       "      <th>6</th>\n",
       "      <td>2483.060059</td>\n",
       "      <td>2437.586147</td>\n",
       "      <td>45.473912</td>\n",
       "    </tr>\n",
       "    <tr>\n",
       "      <th>7</th>\n",
       "      <td>2709.023438</td>\n",
       "      <td>2815.130803</td>\n",
       "      <td>-106.107366</td>\n",
       "    </tr>\n",
       "    <tr>\n",
       "      <th>8</th>\n",
       "      <td>2995.477539</td>\n",
       "      <td>3108.779034</td>\n",
       "      <td>-113.301495</td>\n",
       "    </tr>\n",
       "    <tr>\n",
       "      <th>9</th>\n",
       "      <td>3179.883789</td>\n",
       "      <td>3279.235794</td>\n",
       "      <td>-99.352005</td>\n",
       "    </tr>\n",
       "    <tr>\n",
       "      <th>10</th>\n",
       "      <td>3259.632812</td>\n",
       "      <td>3325.889257</td>\n",
       "      <td>-66.256445</td>\n",
       "    </tr>\n",
       "    <tr>\n",
       "      <th>11</th>\n",
       "      <td>3309.521484</td>\n",
       "      <td>3376.687746</td>\n",
       "      <td>-67.166261</td>\n",
       "    </tr>\n",
       "    <tr>\n",
       "      <th>12</th>\n",
       "      <td>3351.806396</td>\n",
       "      <td>3438.238386</td>\n",
       "      <td>-86.431990</td>\n",
       "    </tr>\n",
       "    <tr>\n",
       "      <th>13</th>\n",
       "      <td>3400.801270</td>\n",
       "      <td>3517.059057</td>\n",
       "      <td>-116.257788</td>\n",
       "    </tr>\n",
       "    <tr>\n",
       "      <th>14</th>\n",
       "      <td>3449.265625</td>\n",
       "      <td>3563.859248</td>\n",
       "      <td>-114.593623</td>\n",
       "    </tr>\n",
       "    <tr>\n",
       "      <th>15</th>\n",
       "      <td>3479.727783</td>\n",
       "      <td>3514.566719</td>\n",
       "      <td>-34.838935</td>\n",
       "    </tr>\n",
       "    <tr>\n",
       "      <th>16</th>\n",
       "      <td>3465.691650</td>\n",
       "      <td>3583.816727</td>\n",
       "      <td>-118.125076</td>\n",
       "    </tr>\n",
       "    <tr>\n",
       "      <th>17</th>\n",
       "      <td>3416.752686</td>\n",
       "      <td>3517.233075</td>\n",
       "      <td>-100.480389</td>\n",
       "    </tr>\n",
       "    <tr>\n",
       "      <th>18</th>\n",
       "      <td>3423.716309</td>\n",
       "      <td>3608.223872</td>\n",
       "      <td>-184.507563</td>\n",
       "    </tr>\n",
       "    <tr>\n",
       "      <th>19</th>\n",
       "      <td>3525.418945</td>\n",
       "      <td>3694.557169</td>\n",
       "      <td>-169.138224</td>\n",
       "    </tr>\n",
       "    <tr>\n",
       "      <th>20</th>\n",
       "      <td>3600.926758</td>\n",
       "      <td>3849.159867</td>\n",
       "      <td>-248.233109</td>\n",
       "    </tr>\n",
       "    <tr>\n",
       "      <th>21</th>\n",
       "      <td>3576.517334</td>\n",
       "      <td>3758.788937</td>\n",
       "      <td>-182.271603</td>\n",
       "    </tr>\n",
       "    <tr>\n",
       "      <th>22</th>\n",
       "      <td>3478.552979</td>\n",
       "      <td>3605.910847</td>\n",
       "      <td>-127.357868</td>\n",
       "    </tr>\n",
       "    <tr>\n",
       "      <th>23</th>\n",
       "      <td>3329.938477</td>\n",
       "      <td>3452.201417</td>\n",
       "      <td>-122.262940</td>\n",
       "    </tr>\n",
       "  </tbody>\n",
       "</table>\n",
       "</div>"
      ],
      "text/plain": [
       "         Tahmin       gerçek        Fark\n",
       "0   3196.448486  3170.151587   26.296900\n",
       "1   3023.394287  3001.797827   21.596460\n",
       "2   2881.643066  2857.031862   24.611205\n",
       "3   2747.561523  2738.457057    9.104467\n",
       "4   2601.735596  2637.860627  -36.125031\n",
       "5   2460.950439  2291.909193  169.041247\n",
       "6   2483.060059  2437.586147   45.473912\n",
       "7   2709.023438  2815.130803 -106.107366\n",
       "8   2995.477539  3108.779034 -113.301495\n",
       "9   3179.883789  3279.235794  -99.352005\n",
       "10  3259.632812  3325.889257  -66.256445\n",
       "11  3309.521484  3376.687746  -67.166261\n",
       "12  3351.806396  3438.238386  -86.431990\n",
       "13  3400.801270  3517.059057 -116.257788\n",
       "14  3449.265625  3563.859248 -114.593623\n",
       "15  3479.727783  3514.566719  -34.838935\n",
       "16  3465.691650  3583.816727 -118.125076\n",
       "17  3416.752686  3517.233075 -100.480389\n",
       "18  3423.716309  3608.223872 -184.507563\n",
       "19  3525.418945  3694.557169 -169.138224\n",
       "20  3600.926758  3849.159867 -248.233109\n",
       "21  3576.517334  3758.788937 -182.271603\n",
       "22  3478.552979  3605.910847 -127.357868\n",
       "23  3329.938477  3452.201417 -122.262940"
      ]
     },
     "execution_count": 62,
     "metadata": {},
     "output_type": "execute_result"
    }
   ],
   "source": [
    "df_result[\"Fark\"] = df_result[\"Tahmin\"]-df_result[\"gerçek\"]\n",
    "df_result"
   ]
  },
  {
   "cell_type": "code",
   "execution_count": 63,
   "id": "a81a6cfe-c512-4b89-8ae8-407610bc7e1c",
   "metadata": {},
   "outputs": [],
   "source": [
    "df_result.to_excel(\"Tahmin_Sonuçlar.xlsx\")"
   ]
  },
  {
   "cell_type": "code",
   "execution_count": 67,
   "id": "3be4eb3e-ef97-4189-8a2d-5888121d0f5b",
   "metadata": {},
   "outputs": [
    {
     "data": {
      "application/vnd.plotly.v1+json": {
       "config": {
        "plotlyServerURL": "https://plot.ly"
       },
       "data": [
        {
         "line": {
          "color": "blue"
         },
         "marker": {
          "color": "blue",
          "size": 6
         },
         "mode": "lines+markers",
         "name": "Gerçek (Tüm Seri)",
         "type": "scatter",
         "x": [
          0,
          1,
          2,
          3,
          4,
          5,
          6,
          7,
          8,
          9,
          10,
          11,
          12,
          13,
          14,
          15,
          16,
          17,
          18,
          19,
          20,
          21,
          22,
          23,
          24,
          25,
          26,
          27,
          28,
          29,
          30,
          31,
          32,
          33,
          34,
          35,
          36,
          37,
          38,
          39,
          40,
          41,
          42,
          43,
          44,
          45,
          46,
          47,
          48,
          49,
          50,
          51,
          52,
          53,
          54,
          55,
          56,
          57,
          58,
          59,
          60,
          61,
          62,
          63,
          64,
          65,
          66,
          67,
          68,
          69,
          70,
          71,
          72,
          73,
          74,
          75,
          76,
          77,
          78,
          79,
          80,
          81,
          82,
          83,
          84,
          85,
          86,
          87,
          88,
          89,
          90,
          91,
          92,
          93,
          94,
          95
         ],
         "y": [
          3236.333117666667,
          3054.379500666666,
          2874.026663666666,
          2794.4926476666665,
          2676.555108666667,
          2403.5151656666662,
          2399.495554666667,
          2627.607288666666,
          2937.6359926666664,
          2982.2038606666665,
          3077.326615666667,
          3162.618293666667,
          3271.2695656666665,
          3359.8113546666673,
          3371.3670096666674,
          3451.946908666667,
          3323.2252126666663,
          3316.863778666667,
          3336.786140666666,
          3437.287729666667,
          3594.856862666666,
          3509.717062666667,
          3390.8058966666676,
          3285.9813086666663,
          3082.825146666667,
          2913.790801666667,
          2796.013326666666,
          2687.123231666667,
          2571.2796116669892,
          2354.8496072691773,
          2443.009341201436,
          2699.6404892295263,
          2952.484032859581,
          3063.731319594675,
          3137.556773698338,
          3117.296715315809,
          3112.723115420895,
          3178.445209661319,
          3156.0941723864253,
          3098.5618481469014,
          3090.1443271050325,
          2986.4305741634334,
          2939.561031219418,
          3061.63718216058,
          3352.153616666666,
          3319.6619316666665,
          3190.8061816666677,
          3109.5590366666675,
          2831.473586666667,
          2675.4668266666663,
          2563.0428616666663,
          2551.047056666667,
          2481.4300266667956,
          2256.000907226899,
          2325.50409150448,
          2603.173824986203,
          2919.8956439075064,
          3102.323315599967,
          3162.4460296820066,
          3206.722206521863,
          3294.199576854715,
          3359.335566225651,
          3432.4731540474645,
          3477.5542047866393,
          3558.4510434295776,
          3543.515809811801,
          3496.086856269979,
          3544.532367121104,
          3737.206866666666,
          3669.4649366666663,
          3515.5228466666676,
          3400.4314166666663,
          3170.151586666667,
          3001.7978266666673,
          2857.0318616666664,
          2738.4570566666666,
          2637.8606266666666,
          2291.9091929008628,
          2437.586146936538,
          2815.130803064952,
          3108.7790337551805,
          3279.235794484153,
          3325.8892571158563,
          3376.687745866501,
          3438.2383860022146,
          3517.059057420448,
          3563.8592476993476,
          3514.566718693187,
          3583.8167267638128,
          3517.23307468512,
          3608.223871530269,
          3694.5571691845093,
          3849.159866666666,
          3758.788936666667,
          3605.910846666667,
          3452.2014166666672
         ]
        },
        {
         "line": {
          "color": "red"
         },
         "marker": {
          "color": "red",
          "size": 7,
          "symbol": "x"
         },
         "mode": "lines+markers",
         "name": "Tahmin (Son 24 Saat)",
         "type": "scatter",
         "x": [
          72,
          73,
          74,
          75,
          76,
          77,
          78,
          79,
          80,
          81,
          82,
          83,
          84,
          85,
          86,
          87,
          88,
          89,
          90,
          91,
          92,
          93,
          94,
          95
         ],
         "y": [
          3196.448486328125,
          3023.394287109375,
          2881.64306640625,
          2747.5615234375,
          2601.735595703125,
          2460.950439453125,
          2483.06005859375,
          2709.0234375,
          2995.4775390625,
          3179.8837890625,
          3259.6328125,
          3309.521484375,
          3351.806396484375,
          3400.80126953125,
          3449.265625,
          3479.727783203125,
          3465.691650390625,
          3416.752685546875,
          3423.71630859375,
          3525.4189453125,
          3600.9267578125,
          3576.517333984375,
          3478.552978515625,
          3329.9384765625
         ]
        },
        {
         "marker": {
          "color": "green",
          "size": 9,
          "symbol": "circle-open"
         },
         "mode": "markers",
         "name": "Gerçek (Son 24 Saat)",
         "type": "scatter",
         "x": [
          72,
          73,
          74,
          75,
          76,
          77,
          78,
          79,
          80,
          81,
          82,
          83,
          84,
          85,
          86,
          87,
          88,
          89,
          90,
          91,
          92,
          93,
          94,
          95
         ],
         "y": [
          3170.151586666667,
          3001.7978266666673,
          2857.0318616666664,
          2738.4570566666666,
          2637.8606266666666,
          2291.9091929008628,
          2437.586146936538,
          2815.130803064952,
          3108.7790337551805,
          3279.235794484153,
          3325.8892571158563,
          3376.687745866501,
          3438.2383860022146,
          3517.059057420448,
          3563.8592476993476,
          3514.566718693187,
          3583.8167267638128,
          3517.23307468512,
          3608.223871530269,
          3694.5571691845093,
          3849.159866666666,
          3758.788936666667,
          3605.910846666667,
          3452.2014166666672
         ]
        },
        {
         "marker": {
          "color": "lightgreen"
         },
         "name": "Tahmin - Gerçek Farkı (Son 24 Saat)",
         "opacity": 0.4,
         "type": "bar",
         "x": [
          72,
          73,
          74,
          75,
          76,
          77,
          78,
          79,
          80,
          81,
          82,
          83,
          84,
          85,
          86,
          87,
          88,
          89,
          90,
          91,
          92,
          93,
          94,
          95
         ],
         "y": [
          26.296899661458156,
          21.596460442707667,
          24.611204739583627,
          9.104466770833369,
          -36.125030963541576,
          169.04124655226224,
          45.47391165721183,
          -106.10736556495203,
          -113.30149469268054,
          -99.35200542165285,
          -66.25644461585625,
          -67.16626149150079,
          -86.43198951783961,
          -116.25778788919797,
          -114.59362269934763,
          -34.838935490061886,
          -118.12507637318777,
          -100.48038913824485,
          -184.5075629365192,
          -169.13822387200935,
          -248.23310885416595,
          -182.2716026822918,
          -127.35786815104211,
          -122.26294010416723
         ],
         "yaxis": "y2"
        }
       ],
       "layout": {
        "height": 650,
        "legend": {
         "x": 0.01,
         "y": 0.99
        },
        "template": {
         "data": {
          "bar": [
           {
            "error_x": {
             "color": "#2a3f5f"
            },
            "error_y": {
             "color": "#2a3f5f"
            },
            "marker": {
             "line": {
              "color": "white",
              "width": 0.5
             },
             "pattern": {
              "fillmode": "overlay",
              "size": 10,
              "solidity": 0.2
             }
            },
            "type": "bar"
           }
          ],
          "barpolar": [
           {
            "marker": {
             "line": {
              "color": "white",
              "width": 0.5
             },
             "pattern": {
              "fillmode": "overlay",
              "size": 10,
              "solidity": 0.2
             }
            },
            "type": "barpolar"
           }
          ],
          "carpet": [
           {
            "aaxis": {
             "endlinecolor": "#2a3f5f",
             "gridcolor": "#C8D4E3",
             "linecolor": "#C8D4E3",
             "minorgridcolor": "#C8D4E3",
             "startlinecolor": "#2a3f5f"
            },
            "baxis": {
             "endlinecolor": "#2a3f5f",
             "gridcolor": "#C8D4E3",
             "linecolor": "#C8D4E3",
             "minorgridcolor": "#C8D4E3",
             "startlinecolor": "#2a3f5f"
            },
            "type": "carpet"
           }
          ],
          "choropleth": [
           {
            "colorbar": {
             "outlinewidth": 0,
             "ticks": ""
            },
            "type": "choropleth"
           }
          ],
          "contour": [
           {
            "colorbar": {
             "outlinewidth": 0,
             "ticks": ""
            },
            "colorscale": [
             [
              0,
              "#0d0887"
             ],
             [
              0.1111111111111111,
              "#46039f"
             ],
             [
              0.2222222222222222,
              "#7201a8"
             ],
             [
              0.3333333333333333,
              "#9c179e"
             ],
             [
              0.4444444444444444,
              "#bd3786"
             ],
             [
              0.5555555555555556,
              "#d8576b"
             ],
             [
              0.6666666666666666,
              "#ed7953"
             ],
             [
              0.7777777777777778,
              "#fb9f3a"
             ],
             [
              0.8888888888888888,
              "#fdca26"
             ],
             [
              1,
              "#f0f921"
             ]
            ],
            "type": "contour"
           }
          ],
          "contourcarpet": [
           {
            "colorbar": {
             "outlinewidth": 0,
             "ticks": ""
            },
            "type": "contourcarpet"
           }
          ],
          "heatmap": [
           {
            "colorbar": {
             "outlinewidth": 0,
             "ticks": ""
            },
            "colorscale": [
             [
              0,
              "#0d0887"
             ],
             [
              0.1111111111111111,
              "#46039f"
             ],
             [
              0.2222222222222222,
              "#7201a8"
             ],
             [
              0.3333333333333333,
              "#9c179e"
             ],
             [
              0.4444444444444444,
              "#bd3786"
             ],
             [
              0.5555555555555556,
              "#d8576b"
             ],
             [
              0.6666666666666666,
              "#ed7953"
             ],
             [
              0.7777777777777778,
              "#fb9f3a"
             ],
             [
              0.8888888888888888,
              "#fdca26"
             ],
             [
              1,
              "#f0f921"
             ]
            ],
            "type": "heatmap"
           }
          ],
          "heatmapgl": [
           {
            "colorbar": {
             "outlinewidth": 0,
             "ticks": ""
            },
            "colorscale": [
             [
              0,
              "#0d0887"
             ],
             [
              0.1111111111111111,
              "#46039f"
             ],
             [
              0.2222222222222222,
              "#7201a8"
             ],
             [
              0.3333333333333333,
              "#9c179e"
             ],
             [
              0.4444444444444444,
              "#bd3786"
             ],
             [
              0.5555555555555556,
              "#d8576b"
             ],
             [
              0.6666666666666666,
              "#ed7953"
             ],
             [
              0.7777777777777778,
              "#fb9f3a"
             ],
             [
              0.8888888888888888,
              "#fdca26"
             ],
             [
              1,
              "#f0f921"
             ]
            ],
            "type": "heatmapgl"
           }
          ],
          "histogram": [
           {
            "marker": {
             "pattern": {
              "fillmode": "overlay",
              "size": 10,
              "solidity": 0.2
             }
            },
            "type": "histogram"
           }
          ],
          "histogram2d": [
           {
            "colorbar": {
             "outlinewidth": 0,
             "ticks": ""
            },
            "colorscale": [
             [
              0,
              "#0d0887"
             ],
             [
              0.1111111111111111,
              "#46039f"
             ],
             [
              0.2222222222222222,
              "#7201a8"
             ],
             [
              0.3333333333333333,
              "#9c179e"
             ],
             [
              0.4444444444444444,
              "#bd3786"
             ],
             [
              0.5555555555555556,
              "#d8576b"
             ],
             [
              0.6666666666666666,
              "#ed7953"
             ],
             [
              0.7777777777777778,
              "#fb9f3a"
             ],
             [
              0.8888888888888888,
              "#fdca26"
             ],
             [
              1,
              "#f0f921"
             ]
            ],
            "type": "histogram2d"
           }
          ],
          "histogram2dcontour": [
           {
            "colorbar": {
             "outlinewidth": 0,
             "ticks": ""
            },
            "colorscale": [
             [
              0,
              "#0d0887"
             ],
             [
              0.1111111111111111,
              "#46039f"
             ],
             [
              0.2222222222222222,
              "#7201a8"
             ],
             [
              0.3333333333333333,
              "#9c179e"
             ],
             [
              0.4444444444444444,
              "#bd3786"
             ],
             [
              0.5555555555555556,
              "#d8576b"
             ],
             [
              0.6666666666666666,
              "#ed7953"
             ],
             [
              0.7777777777777778,
              "#fb9f3a"
             ],
             [
              0.8888888888888888,
              "#fdca26"
             ],
             [
              1,
              "#f0f921"
             ]
            ],
            "type": "histogram2dcontour"
           }
          ],
          "mesh3d": [
           {
            "colorbar": {
             "outlinewidth": 0,
             "ticks": ""
            },
            "type": "mesh3d"
           }
          ],
          "parcoords": [
           {
            "line": {
             "colorbar": {
              "outlinewidth": 0,
              "ticks": ""
             }
            },
            "type": "parcoords"
           }
          ],
          "pie": [
           {
            "automargin": true,
            "type": "pie"
           }
          ],
          "scatter": [
           {
            "fillpattern": {
             "fillmode": "overlay",
             "size": 10,
             "solidity": 0.2
            },
            "type": "scatter"
           }
          ],
          "scatter3d": [
           {
            "line": {
             "colorbar": {
              "outlinewidth": 0,
              "ticks": ""
             }
            },
            "marker": {
             "colorbar": {
              "outlinewidth": 0,
              "ticks": ""
             }
            },
            "type": "scatter3d"
           }
          ],
          "scattercarpet": [
           {
            "marker": {
             "colorbar": {
              "outlinewidth": 0,
              "ticks": ""
             }
            },
            "type": "scattercarpet"
           }
          ],
          "scattergeo": [
           {
            "marker": {
             "colorbar": {
              "outlinewidth": 0,
              "ticks": ""
             }
            },
            "type": "scattergeo"
           }
          ],
          "scattergl": [
           {
            "marker": {
             "colorbar": {
              "outlinewidth": 0,
              "ticks": ""
             }
            },
            "type": "scattergl"
           }
          ],
          "scattermapbox": [
           {
            "marker": {
             "colorbar": {
              "outlinewidth": 0,
              "ticks": ""
             }
            },
            "type": "scattermapbox"
           }
          ],
          "scatterpolar": [
           {
            "marker": {
             "colorbar": {
              "outlinewidth": 0,
              "ticks": ""
             }
            },
            "type": "scatterpolar"
           }
          ],
          "scatterpolargl": [
           {
            "marker": {
             "colorbar": {
              "outlinewidth": 0,
              "ticks": ""
             }
            },
            "type": "scatterpolargl"
           }
          ],
          "scatterternary": [
           {
            "marker": {
             "colorbar": {
              "outlinewidth": 0,
              "ticks": ""
             }
            },
            "type": "scatterternary"
           }
          ],
          "surface": [
           {
            "colorbar": {
             "outlinewidth": 0,
             "ticks": ""
            },
            "colorscale": [
             [
              0,
              "#0d0887"
             ],
             [
              0.1111111111111111,
              "#46039f"
             ],
             [
              0.2222222222222222,
              "#7201a8"
             ],
             [
              0.3333333333333333,
              "#9c179e"
             ],
             [
              0.4444444444444444,
              "#bd3786"
             ],
             [
              0.5555555555555556,
              "#d8576b"
             ],
             [
              0.6666666666666666,
              "#ed7953"
             ],
             [
              0.7777777777777778,
              "#fb9f3a"
             ],
             [
              0.8888888888888888,
              "#fdca26"
             ],
             [
              1,
              "#f0f921"
             ]
            ],
            "type": "surface"
           }
          ],
          "table": [
           {
            "cells": {
             "fill": {
              "color": "#EBF0F8"
             },
             "line": {
              "color": "white"
             }
            },
            "header": {
             "fill": {
              "color": "#C8D4E3"
             },
             "line": {
              "color": "white"
             }
            },
            "type": "table"
           }
          ]
         },
         "layout": {
          "annotationdefaults": {
           "arrowcolor": "#2a3f5f",
           "arrowhead": 0,
           "arrowwidth": 1
          },
          "autotypenumbers": "strict",
          "coloraxis": {
           "colorbar": {
            "outlinewidth": 0,
            "ticks": ""
           }
          },
          "colorscale": {
           "diverging": [
            [
             0,
             "#8e0152"
            ],
            [
             0.1,
             "#c51b7d"
            ],
            [
             0.2,
             "#de77ae"
            ],
            [
             0.3,
             "#f1b6da"
            ],
            [
             0.4,
             "#fde0ef"
            ],
            [
             0.5,
             "#f7f7f7"
            ],
            [
             0.6,
             "#e6f5d0"
            ],
            [
             0.7,
             "#b8e186"
            ],
            [
             0.8,
             "#7fbc41"
            ],
            [
             0.9,
             "#4d9221"
            ],
            [
             1,
             "#276419"
            ]
           ],
           "sequential": [
            [
             0,
             "#0d0887"
            ],
            [
             0.1111111111111111,
             "#46039f"
            ],
            [
             0.2222222222222222,
             "#7201a8"
            ],
            [
             0.3333333333333333,
             "#9c179e"
            ],
            [
             0.4444444444444444,
             "#bd3786"
            ],
            [
             0.5555555555555556,
             "#d8576b"
            ],
            [
             0.6666666666666666,
             "#ed7953"
            ],
            [
             0.7777777777777778,
             "#fb9f3a"
            ],
            [
             0.8888888888888888,
             "#fdca26"
            ],
            [
             1,
             "#f0f921"
            ]
           ],
           "sequentialminus": [
            [
             0,
             "#0d0887"
            ],
            [
             0.1111111111111111,
             "#46039f"
            ],
            [
             0.2222222222222222,
             "#7201a8"
            ],
            [
             0.3333333333333333,
             "#9c179e"
            ],
            [
             0.4444444444444444,
             "#bd3786"
            ],
            [
             0.5555555555555556,
             "#d8576b"
            ],
            [
             0.6666666666666666,
             "#ed7953"
            ],
            [
             0.7777777777777778,
             "#fb9f3a"
            ],
            [
             0.8888888888888888,
             "#fdca26"
            ],
            [
             1,
             "#f0f921"
            ]
           ]
          },
          "colorway": [
           "#636efa",
           "#EF553B",
           "#00cc96",
           "#ab63fa",
           "#FFA15A",
           "#19d3f3",
           "#FF6692",
           "#B6E880",
           "#FF97FF",
           "#FECB52"
          ],
          "font": {
           "color": "#2a3f5f"
          },
          "geo": {
           "bgcolor": "white",
           "lakecolor": "white",
           "landcolor": "white",
           "showlakes": true,
           "showland": true,
           "subunitcolor": "#C8D4E3"
          },
          "hoverlabel": {
           "align": "left"
          },
          "hovermode": "closest",
          "mapbox": {
           "style": "light"
          },
          "paper_bgcolor": "white",
          "plot_bgcolor": "white",
          "polar": {
           "angularaxis": {
            "gridcolor": "#EBF0F8",
            "linecolor": "#EBF0F8",
            "ticks": ""
           },
           "bgcolor": "white",
           "radialaxis": {
            "gridcolor": "#EBF0F8",
            "linecolor": "#EBF0F8",
            "ticks": ""
           }
          },
          "scene": {
           "xaxis": {
            "backgroundcolor": "white",
            "gridcolor": "#DFE8F3",
            "gridwidth": 2,
            "linecolor": "#EBF0F8",
            "showbackground": true,
            "ticks": "",
            "zerolinecolor": "#EBF0F8"
           },
           "yaxis": {
            "backgroundcolor": "white",
            "gridcolor": "#DFE8F3",
            "gridwidth": 2,
            "linecolor": "#EBF0F8",
            "showbackground": true,
            "ticks": "",
            "zerolinecolor": "#EBF0F8"
           },
           "zaxis": {
            "backgroundcolor": "white",
            "gridcolor": "#DFE8F3",
            "gridwidth": 2,
            "linecolor": "#EBF0F8",
            "showbackground": true,
            "ticks": "",
            "zerolinecolor": "#EBF0F8"
           }
          },
          "shapedefaults": {
           "line": {
            "color": "#2a3f5f"
           }
          },
          "ternary": {
           "aaxis": {
            "gridcolor": "#DFE8F3",
            "linecolor": "#A2B1C6",
            "ticks": ""
           },
           "baxis": {
            "gridcolor": "#DFE8F3",
            "linecolor": "#A2B1C6",
            "ticks": ""
           },
           "bgcolor": "white",
           "caxis": {
            "gridcolor": "#DFE8F3",
            "linecolor": "#A2B1C6",
            "ticks": ""
           }
          },
          "title": {
           "x": 0.05
          },
          "xaxis": {
           "automargin": true,
           "gridcolor": "#EBF0F8",
           "linecolor": "#EBF0F8",
           "ticks": "",
           "title": {
            "standoff": 15
           },
           "zerolinecolor": "#EBF0F8",
           "zerolinewidth": 2
          },
          "yaxis": {
           "automargin": true,
           "gridcolor": "#EBF0F8",
           "linecolor": "#EBF0F8",
           "ticks": "",
           "title": {
            "standoff": 15
           },
           "zerolinecolor": "#EBF0F8",
           "zerolinewidth": 2
          }
         }
        },
        "title": {
         "text": "96 Saatlik Seri, Son 24 Saat Tahmin ve Gerçek Değerler"
        },
        "width": 1100,
        "xaxis": {
         "autorange": true,
         "range": [
          -5.7627371881069775,
          100.9756461975198
         ],
         "title": {
          "text": "Saat (0 = ilk veri, 95 = son veri)"
         },
         "type": "linear"
        },
        "yaxis": {
         "autorange": true,
         "range": [
          2151.042112074929,
          3961.3405972648725
         ],
         "title": {
          "text": "Değer"
         },
         "type": "linear"
        },
        "yaxis2": {
         "autorange": true,
         "overlaying": "y",
         "range": [
          -271.4150174878564,
          192.2231551859527
         ],
         "showgrid": false,
         "side": "right",
         "title": {
          "text": "Fark"
         },
         "type": "linear"
        }
       }
      },
      "image/png": "[encoded data removed]",
      "text/html": [
       "<div>                            <div id=\"3bf33f83-4182-45f2-98db-45fb83913d7d\" class=\"plotly-graph-div\" style=\"height:650px; width:1100px;\"></div>            <script type=\"text/javascript\">                require([\"plotly\"], function(Plotly) {                    window.PLOTLYENV=window.PLOTLYENV || {};                                    if (document.getElementById(\"3bf33f83-4182-45f2-98db-45fb83913d7d\")) {                    Plotly.newPlot(                        \"3bf33f83-4182-45f2-98db-45fb83913d7d\",                        [{\"line\":{\"color\":\"blue\"},\"marker\":{\"color\":\"blue\",\"size\":6},\"mode\":\"lines+markers\",\"name\":\"Ger\\u00e7ek (T\\u00fcm Seri)\",\"x\":[0,1,2,3,4,5,6,7,8,9,10,11,12,13,14,15,16,17,18,19,20,21,22,23,24,25,26,27,28,29,30,31,32,33,34,35,36,37,38,39,40,41,42,43,44,45,46,47,48,49,50,51,52,53,54,55,56,57,58,59,60,61,62,63,64,65,66,67,68,69,70,71,72,73,74,75,76,77,78,79,80,81,82,83,84,85,86,87,88,89,90,91,92,93,94,95],\"y\":[3236.333117666667,3054.379500666666,2874.026663666666,2794.4926476666665,2676.555108666667,2403.5151656666662,2399.495554666667,2627.607288666666,2937.6359926666664,2982.2038606666665,3077.326615666667,3162.618293666667,3271.2695656666665,3359.8113546666673,3371.3670096666674,3451.946908666667,3323.2252126666663,3316.863778666667,3336.786140666666,3437.287729666667,3594.856862666666,3509.717062666667,3390.8058966666676,3285.9813086666663,3082.825146666667,2913.790801666667,2796.013326666666,2687.123231666667,2571.2796116669892,2354.8496072691773,2443.009341201436,2699.6404892295263,2952.484032859581,3063.731319594675,3137.556773698338,3117.296715315809,3112.723115420895,3178.445209661319,3156.0941723864253,3098.5618481469014,3090.1443271050325,2986.4305741634334,2939.561031219418,3061.63718216058,3352.153616666666,3319.6619316666665,3190.8061816666677,3109.5590366666675,2831.473586666667,2675.4668266666663,2563.0428616666663,2551.047056666667,2481.4300266667956,2256.000907226899,2325.50409150448,2603.173824986203,2919.8956439075064,3102.323315599967,3162.4460296820066,3206.722206521863,3294.199576854715,3359.335566225651,3432.4731540474645,3477.5542047866393,3558.4510434295776,3543.515809811801,3496.086856269979,3544.532367121104,3737.206866666666,3669.4649366666663,3515.5228466666676,3400.4314166666663,3170.151586666667,3001.7978266666673,2857.0318616666664,2738.4570566666666,2637.8606266666666,2291.9091929008628,2437.586146936538,2815.130803064952,3108.7790337551805,3279.235794484153,3325.8892571158563,3376.687745866501,3438.2383860022146,3517.059057420448,3563.8592476993476,3514.566718693187,3583.8167267638128,3517.23307468512,3608.223871530269,3694.5571691845093,3849.159866666666,3758.788936666667,3605.910846666667,3452.2014166666672],\"type\":\"scatter\"},{\"line\":{\"color\":\"red\"},\"marker\":{\"color\":\"red\",\"size\":7,\"symbol\":\"x\"},\"mode\":\"lines+markers\",\"name\":\"Tahmin (Son 24 Saat)\",\"x\":[72,73,74,75,76,77,78,79,80,81,82,83,84,85,86,87,88,89,90,91,92,93,94,95],\"y\":[3196.448486328125,3023.394287109375,2881.64306640625,2747.5615234375,2601.735595703125,2460.950439453125,2483.06005859375,2709.0234375,2995.4775390625,3179.8837890625,3259.6328125,3309.521484375,3351.806396484375,3400.80126953125,3449.265625,3479.727783203125,3465.691650390625,3416.752685546875,3423.71630859375,3525.4189453125,3600.9267578125,3576.517333984375,3478.552978515625,3329.9384765625],\"type\":\"scatter\"},{\"marker\":{\"color\":\"green\",\"size\":9,\"symbol\":\"circle-open\"},\"mode\":\"markers\",\"name\":\"Ger\\u00e7ek (Son 24 Saat)\",\"x\":[72,73,74,75,76,77,78,79,80,81,82,83,84,85,86,87,88,89,90,91,92,93,94,95],\"y\":[3170.151586666667,3001.7978266666673,2857.0318616666664,2738.4570566666666,2637.8606266666666,2291.9091929008628,2437.586146936538,2815.130803064952,3108.7790337551805,3279.235794484153,3325.8892571158563,3376.687745866501,3438.2383860022146,3517.059057420448,3563.8592476993476,3514.566718693187,3583.8167267638128,3517.23307468512,3608.223871530269,3694.5571691845093,3849.159866666666,3758.788936666667,3605.910846666667,3452.2014166666672],\"type\":\"scatter\"},{\"marker\":{\"color\":\"lightgreen\"},\"name\":\"Tahmin - Ger\\u00e7ek Fark\\u0131 (Son 24 Saat)\",\"opacity\":0.4,\"x\":[72,73,74,75,76,77,78,79,80,81,82,83,84,85,86,87,88,89,90,91,92,93,94,95],\"y\":[26.296899661458156,21.596460442707667,24.611204739583627,9.104466770833369,-36.125030963541576,169.04124655226224,45.47391165721183,-106.10736556495203,-113.30149469268054,-99.35200542165285,-66.25644461585625,-67.16626149150079,-86.43198951783961,-116.25778788919797,-114.59362269934763,-34.838935490061886,-118.12507637318777,-100.48038913824485,-184.5075629365192,-169.13822387200935,-248.23310885416595,-182.2716026822918,-127.35786815104211,-122.26294010416723],\"yaxis\":\"y2\",\"type\":\"bar\"}],                        {\"template\":{\"data\":{\"barpolar\":[{\"marker\":{\"line\":{\"color\":\"white\",\"width\":0.5},\"pattern\":{\"fillmode\":\"overlay\",\"size\":10,\"solidity\":0.2}},\"type\":\"barpolar\"}],\"bar\":[{\"error_x\":{\"color\":\"#2a3f5f\"},\"error_y\":{\"color\":\"#2a3f5f\"},\"marker\":{\"line\":{\"color\":\"white\",\"width\":0.5},\"pattern\":{\"fillmode\":\"overlay\",\"size\":10,\"solidity\":0.2}},\"type\":\"bar\"}],\"carpet\":[{\"aaxis\":{\"endlinecolor\":\"#2a3f5f\",\"gridcolor\":\"#C8D4E3\",\"linecolor\":\"#C8D4E3\",\"minorgridcolor\":\"#C8D4E3\",\"startlinecolor\":\"#2a3f5f\"},\"baxis\":{\"endlinecolor\":\"#2a3f5f\",\"gridcolor\":\"#C8D4E3\",\"linecolor\":\"#C8D4E3\",\"minorgridcolor\":\"#C8D4E3\",\"startlinecolor\":\"#2a3f5f\"},\"type\":\"carpet\"}],\"choropleth\":[{\"colorbar\":{\"outlinewidth\":0,\"ticks\":\"\"},\"type\":\"choropleth\"}],\"contourcarpet\":[{\"colorbar\":{\"outlinewidth\":0,\"ticks\":\"\"},\"type\":\"contourcarpet\"}],\"contour\":[{\"colorbar\":{\"outlinewidth\":0,\"ticks\":\"\"},\"colorscale\":[[0.0,\"#0d0887\"],[0.1111111111111111,\"#46039f\"],[0.2222222222222222,\"#7201a8\"],[0.3333333333333333,\"#9c179e\"],[0.4444444444444444,\"#bd3786\"],[0.5555555555555556,\"#d8576b\"],[0.6666666666666666,\"#ed7953\"],[0.7777777777777778,\"#fb9f3a\"],[0.8888888888888888,\"#fdca26\"],[1.0,\"#f0f921\"]],\"type\":\"contour\"}],\"heatmapgl\":[{\"colorbar\":{\"outlinewidth\":0,\"ticks\":\"\"},\"colorscale\":[[0.0,\"#0d0887\"],[0.1111111111111111,\"#46039f\"],[0.2222222222222222,\"#7201a8\"],[0.3333333333333333,\"#9c179e\"],[0.4444444444444444,\"#bd3786\"],[0.5555555555555556,\"#d8576b\"],[0.6666666666666666,\"#ed7953\"],[0.7777777777777778,\"#fb9f3a\"],[0.8888888888888888,\"#fdca26\"],[1.0,\"#f0f921\"]],\"type\":\"heatmapgl\"}],\"heatmap\":[{\"colorbar\":{\"outlinewidth\":0,\"ticks\":\"\"},\"colorscale\":[[0.0,\"#0d0887\"],[0.1111111111111111,\"#46039f\"],[0.2222222222222222,\"#7201a8\"],[0.3333333333333333,\"#9c179e\"],[0.4444444444444444,\"#bd3786\"],[0.5555555555555556,\"#d8576b\"],[0.6666666666666666,\"#ed7953\"],[0.7777777777777778,\"#fb9f3a\"],[0.8888888888888888,\"#fdca26\"],[1.0,\"#f0f921\"]],\"type\":\"heatmap\"}],\"histogram2dcontour\":[{\"colorbar\":{\"outlinewidth\":0,\"ticks\":\"\"},\"colorscale\":[[0.0,\"#0d0887\"],[0.1111111111111111,\"#46039f\"],[0.2222222222222222,\"#7201a8\"],[0.3333333333333333,\"#9c179e\"],[0.4444444444444444,\"#bd3786\"],[0.5555555555555556,\"#d8576b\"],[0.6666666666666666,\"#ed7953\"],[0.7777777777777778,\"#fb9f3a\"],[0.8888888888888888,\"#fdca26\"],[1.0,\"#f0f921\"]],\"type\":\"histogram2dcontour\"}],\"histogram2d\":[{\"colorbar\":{\"outlinewidth\":0,\"ticks\":\"\"},\"colorscale\":[[0.0,\"#0d0887\"],[0.1111111111111111,\"#46039f\"],[0.2222222222222222,\"#7201a8\"],[0.3333333333333333,\"#9c179e\"],[0.4444444444444444,\"#bd3786\"],[0.5555555555555556,\"#d8576b\"],[0.6666666666666666,\"#ed7953\"],[0.7777777777777778,\"#fb9f3a\"],[0.8888888888888888,\"#fdca26\"],[1.0,\"#f0f921\"]],\"type\":\"histogram2d\"}],\"histogram\":[{\"marker\":{\"pattern\":{\"fillmode\":\"overlay\",\"size\":10,\"solidity\":0.2}},\"type\":\"histogram\"}],\"mesh3d\":[{\"colorbar\":{\"outlinewidth\":0,\"ticks\":\"\"},\"type\":\"mesh3d\"}],\"parcoords\":[{\"line\":{\"colorbar\":{\"outlinewidth\":0,\"ticks\":\"\"}},\"type\":\"parcoords\"}],\"pie\":[{\"automargin\":true,\"type\":\"pie\"}],\"scatter3d\":[{\"line\":{\"colorbar\":{\"outlinewidth\":0,\"ticks\":\"\"}},\"marker\":{\"colorbar\":{\"outlinewidth\":0,\"ticks\":\"\"}},\"type\":\"scatter3d\"}],\"scattercarpet\":[{\"marker\":{\"colorbar\":{\"outlinewidth\":0,\"ticks\":\"\"}},\"type\":\"scattercarpet\"}],\"scattergeo\":[{\"marker\":{\"colorbar\":{\"outlinewidth\":0,\"ticks\":\"\"}},\"type\":\"scattergeo\"}],\"scattergl\":[{\"marker\":{\"colorbar\":{\"outlinewidth\":0,\"ticks\":\"\"}},\"type\":\"scattergl\"}],\"scattermapbox\":[{\"marker\":{\"colorbar\":{\"outlinewidth\":0,\"ticks\":\"\"}},\"type\":\"scattermapbox\"}],\"scatterpolargl\":[{\"marker\":{\"colorbar\":{\"outlinewidth\":0,\"ticks\":\"\"}},\"type\":\"scatterpolargl\"}],\"scatterpolar\":[{\"marker\":{\"colorbar\":{\"outlinewidth\":0,\"ticks\":\"\"}},\"type\":\"scatterpolar\"}],\"scatter\":[{\"fillpattern\":{\"fillmode\":\"overlay\",\"size\":10,\"solidity\":0.2},\"type\":\"scatter\"}],\"scatterternary\":[{\"marker\":{\"colorbar\":{\"outlinewidth\":0,\"ticks\":\"\"}},\"type\":\"scatterternary\"}],\"surface\":[{\"colorbar\":{\"outlinewidth\":0,\"ticks\":\"\"},\"colorscale\":[[0.0,\"#0d0887\"],[0.1111111111111111,\"#46039f\"],[0.2222222222222222,\"#7201a8\"],[0.3333333333333333,\"#9c179e\"],[0.4444444444444444,\"#bd3786\"],[0.5555555555555556,\"#d8576b\"],[0.6666666666666666,\"#ed7953\"],[0.7777777777777778,\"#fb9f3a\"],[0.8888888888888888,\"#fdca26\"],[1.0,\"#f0f921\"]],\"type\":\"surface\"}],\"table\":[{\"cells\":{\"fill\":{\"color\":\"#EBF0F8\"},\"line\":{\"color\":\"white\"}},\"header\":{\"fill\":{\"color\":\"#C8D4E3\"},\"line\":{\"color\":\"white\"}},\"type\":\"table\"}]},\"layout\":{\"annotationdefaults\":{\"arrowcolor\":\"#2a3f5f\",\"arrowhead\":0,\"arrowwidth\":1},\"autotypenumbers\":\"strict\",\"coloraxis\":{\"colorbar\":{\"outlinewidth\":0,\"ticks\":\"\"}},\"colorscale\":{\"diverging\":[[0,\"#8e0152\"],[0.1,\"#c51b7d\"],[0.2,\"#de77ae\"],[0.3,\"#f1b6da\"],[0.4,\"#fde0ef\"],[0.5,\"#f7f7f7\"],[0.6,\"#e6f5d0\"],[0.7,\"#b8e186\"],[0.8,\"#7fbc41\"],[0.9,\"#4d9221\"],[1,\"#276419\"]],\"sequential\":[[0.0,\"#0d0887\"],[0.1111111111111111,\"#46039f\"],[0.2222222222222222,\"#7201a8\"],[0.3333333333333333,\"#9c179e\"],[0.4444444444444444,\"#bd3786\"],[0.5555555555555556,\"#d8576b\"],[0.6666666666666666,\"#ed7953\"],[0.7777777777777778,\"#fb9f3a\"],[0.8888888888888888,\"#fdca26\"],[1.0,\"#f0f921\"]],\"sequentialminus\":[[0.0,\"#0d0887\"],[0.1111111111111111,\"#46039f\"],[0.2222222222222222,\"#7201a8\"],[0.3333333333333333,\"#9c179e\"],[0.4444444444444444,\"#bd3786\"],[0.5555555555555556,\"#d8576b\"],[0.6666666666666666,\"#ed7953\"],[0.7777777777777778,\"#fb9f3a\"],[0.8888888888888888,\"#fdca26\"],[1.0,\"#f0f921\"]]},\"colorway\":[\"#636efa\",\"#EF553B\",\"#00cc96\",\"#ab63fa\",\"#FFA15A\",\"#19d3f3\",\"#FF6692\",\"#B6E880\",\"#FF97FF\",\"#FECB52\"],\"font\":{\"color\":\"#2a3f5f\"},\"geo\":{\"bgcolor\":\"white\",\"lakecolor\":\"white\",\"landcolor\":\"white\",\"showlakes\":true,\"showland\":true,\"subunitcolor\":\"#C8D4E3\"},\"hoverlabel\":{\"align\":\"left\"},\"hovermode\":\"closest\",\"mapbox\":{\"style\":\"light\"},\"paper_bgcolor\":\"white\",\"plot_bgcolor\":\"white\",\"polar\":{\"angularaxis\":{\"gridcolor\":\"#EBF0F8\",\"linecolor\":\"#EBF0F8\",\"ticks\":\"\"},\"bgcolor\":\"white\",\"radialaxis\":{\"gridcolor\":\"#EBF0F8\",\"linecolor\":\"#EBF0F8\",\"ticks\":\"\"}},\"scene\":{\"xaxis\":{\"backgroundcolor\":\"white\",\"gridcolor\":\"#DFE8F3\",\"gridwidth\":2,\"linecolor\":\"#EBF0F8\",\"showbackground\":true,\"ticks\":\"\",\"zerolinecolor\":\"#EBF0F8\"},\"yaxis\":{\"backgroundcolor\":\"white\",\"gridcolor\":\"#DFE8F3\",\"gridwidth\":2,\"linecolor\":\"#EBF0F8\",\"showbackground\":true,\"ticks\":\"\",\"zerolinecolor\":\"#EBF0F8\"},\"zaxis\":{\"backgroundcolor\":\"white\",\"gridcolor\":\"#DFE8F3\",\"gridwidth\":2,\"linecolor\":\"#EBF0F8\",\"showbackground\":true,\"ticks\":\"\",\"zerolinecolor\":\"#EBF0F8\"}},\"shapedefaults\":{\"line\":{\"color\":\"#2a3f5f\"}},\"ternary\":{\"aaxis\":{\"gridcolor\":\"#DFE8F3\",\"linecolor\":\"#A2B1C6\",\"ticks\":\"\"},\"baxis\":{\"gridcolor\":\"#DFE8F3\",\"linecolor\":\"#A2B1C6\",\"ticks\":\"\"},\"bgcolor\":\"white\",\"caxis\":{\"gridcolor\":\"#DFE8F3\",\"linecolor\":\"#A2B1C6\",\"ticks\":\"\"}},\"title\":{\"x\":0.05},\"xaxis\":{\"automargin\":true,\"gridcolor\":\"#EBF0F8\",\"linecolor\":\"#EBF0F8\",\"ticks\":\"\",\"title\":{\"standoff\":15},\"zerolinecolor\":\"#EBF0F8\",\"zerolinewidth\":2},\"yaxis\":{\"automargin\":true,\"gridcolor\":\"#EBF0F8\",\"linecolor\":\"#EBF0F8\",\"ticks\":\"\",\"title\":{\"standoff\":15},\"zerolinecolor\":\"#EBF0F8\",\"zerolinewidth\":2}}},\"yaxis2\":{\"overlaying\":\"y\",\"side\":\"right\",\"showgrid\":false,\"title\":{\"text\":\"Fark\"}},\"legend\":{\"x\":0.01,\"y\":0.99},\"title\":{\"text\":\"96 Saatlik Seri, Son 24 Saat Tahmin ve Ger\\u00e7ek De\\u011ferler\"},\"xaxis\":{\"title\":{\"text\":\"Saat (0 = ilk veri, 95 = son veri)\"}},\"yaxis\":{\"title\":{\"text\":\"De\\u011fer\"}},\"width\":1100,\"height\":650},                        {\"responsive\": true}                    ).then(function(){\n",
       "                            \n",
       "var gd = document.getElementById('3bf33f83-4182-45f2-98db-45fb83913d7d');\n",
       "var x = new MutationObserver(function (mutations, observer) {{\n",
       "        var display = window.getComputedStyle(gd).display;\n",
       "        if (!display || display === 'none') {{\n",
       "            console.log([gd, 'removed!']);\n",
       "            Plotly.purge(gd);\n",
       "            observer.disconnect();\n",
       "        }}\n",
       "}});\n",
       "\n",
       "// Listen for the removal of the full notebook cells\n",
       "var notebookContainer = gd.closest('#notebook-container');\n",
       "if (notebookContainer) {{\n",
       "    x.observe(notebookContainer, {childList: true});\n",
       "}}\n",
       "\n",
       "// Listen for the clearing of the current output cell\n",
       "var outputEl = gd.closest('.output');\n",
       "if (outputEl) {{\n",
       "    x.observe(outputEl, {childList: true});\n",
       "}}\n",
       "\n",
       "                        })                };                });            </script>        </div>"
      ]
     },
     "metadata": {},
     "output_type": "display_data"
    }
   ],
   "source": [
    "import plotly.graph_objs as go\n",
    "import pandas as pd\n",
    "import numpy as np\n",
    "\n",
    "# df_final['data']: 96 veri\n",
    "# df_result['gerçek']: son 24 saat (gerçek)\n",
    "# df_result['Tahmin']: son 24 saat (tahmin)\n",
    "# df_result['Fark']: tahmin - gerçek\n",
    "\n",
    "# Tüm seriyi gösteren temel zaman dizisi (x ekseni)\n",
    "time_index = np.arange(len(df_final['data']))\n",
    "\n",
    "fig = go.Figure()\n",
    "\n",
    "# 1. Tüm 96 seriyi (ham veri - mavi)\n",
    "fig.add_trace(go.Scatter(\n",
    "    x=time_index, y=df_final['data'],\n",
    "    mode='lines+markers',\n",
    "    name='Gerçek (Tüm Seri)',\n",
    "    line=dict(color='blue'),\n",
    "    marker=dict(size=6, color='blue')\n",
    "))\n",
    "\n",
    "# 2. Son 24 saat: Model tahmini (kırmızı çizgi)\n",
    "fig.add_trace(go.Scatter(\n",
    "    x=time_index[-24:], y=df_result['Tahmin'],\n",
    "    mode='lines+markers',\n",
    "    name='Tahmin (Son 24 Saat)',\n",
    "    line=dict(color='red'),\n",
    "    marker=dict(size=7, color='red', symbol='x')\n",
    "))\n",
    "\n",
    "# 3. Son 24 saat: Gerçek (yeşil noktalar)\n",
    "fig.add_trace(go.Scatter(\n",
    "    x=time_index[-24:], y=df_result['gerçek'],\n",
    "    mode='markers',\n",
    "    name='Gerçek (Son 24 Saat)',\n",
    "    marker=dict(size=9, color='green', symbol='circle-open')\n",
    "))\n",
    "\n",
    "# 4. Dilerseniz: Farkı (tahmin-gerçek) çubuk grafik olarak göstermek için (opsiyonel)\n",
    "fig.add_trace(go.Bar(\n",
    "    x=time_index[-24:], y=df_result['Fark'],\n",
    "    name='Tahmin - Gerçek Farkı (Son 24 Saat)',\n",
    "    marker=dict(color='lightgreen'),\n",
    "    opacity=0.4,\n",
    "    yaxis='y2'\n",
    "))\n",
    "\n",
    "# İkincil y ekseni fark için\n",
    "fig.update_layout(\n",
    "    yaxis2=dict(\n",
    "        overlaying='y',\n",
    "        side='right',\n",
    "        showgrid=False,\n",
    "        title='Fark'\n",
    "    ),\n",
    "    title='96 Saatlik Seri, Son 24 Saat Tahmin ve Gerçek Değerler',\n",
    "    xaxis_title='Saat (0 = ilk veri, 95 = son veri)',\n",
    "    yaxis_title='Değer',\n",
    "    legend=dict(x=0.01, y=0.99),\n",
    "    width=1100,\n",
    "    height=650,\n",
    "    template='plotly_white'\n",
    ")\n",
    "\n",
    "fig.show()\n"
   ]
  },
  {
   "cell_type": "code",
   "execution_count": null,
   "id": "af4bc98c-a330-4a83-bae6-6a4f7984d9cb",
   "metadata": {},
   "outputs": [],
   "source": []
  },
  {
   "cell_type": "code",
   "execution_count": null,
   "id": "4e05df29-b4d0-4b92-b928-68405ca87097",
   "metadata": {},
   "outputs": [],
   "source": []
  },
  {
   "cell_type": "code",
   "execution_count": null,
   "id": "1bb3a23a-93ff-448d-8d44-5af413164154",
   "metadata": {},
   "outputs": [],
   "source": []
  },
  {
   "cell_type": "code",
   "execution_count": null,
   "id": "18624ae0-71e4-4372-a304-ea7e919742e4",
   "metadata": {},
   "outputs": [],
   "source": []
  }
 ],
 "metadata": {
  "kernelspec": {
   "display_name": "Python 3 (ipykernel)",
   "language": "python",
   "name": "python3"
  },
  "language_info": {
   "codemirror_mode": {
    "name": "ipython",
    "version": 3
   },
   "file_extension": ".py",
   "mimetype": "text/x-python",
   "name": "python",
   "nbconvert_exporter": "python",
   "pygments_lexer": "ipython3",
   "version": "3.12.0"
  }
 },
 "nbformat": 4,
 "nbformat_minor": 5
}
